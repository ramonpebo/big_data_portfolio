{
 "cells": [
  {
   "cell_type": "markdown",
   "metadata": {},
   "source": [
    "<img width=\"200\" style=\"float:left\" \n",
    "     src=\"data:image/png;base64,iVBORw0KGgoAAAANSUhEUgAAAQsAAAC9CAMAAACTb6i8AAAA/1BMVEX///8AMJIAAABhpwsAmN/j7tdUoQDJ37YALpEAK5AAF4vE0eYAIo76+vqMm8Tn5+fAwMD29vbf39+fn5/R0dEeSZ4AHIzX19fGxsYrKyuoqKjj5vDq6uqMjIyuu9dqamojIyNZWVkzMzMYGBhhYWFwcHBKSkq7u7t8fHwAJ4+wsLCRkZF4eHg+Pj4Akt1SUlIdHR1vrim41KASEhI5OTnw/P4AnuEADYmb1PFWs+d7ye7W8PpeuulEsucAneG/5ver3fRzvup2xe06qOSkq8ywwtzO2uppfLQAPJlzh7oAAIRRbK1VcbCTqc7m7PUmVqR0kMAYQpo9Yanx9uokUKH5h9ZaAAAMZElEQVR4nO2bCXvbuBGGaWy2lWTRFA9Th8nopqjLUis7SrvZdruJr8Z2Ejf//7d0BgApgqR8xHIUx/M+j20SIijg42AwGNCaRhAEQRAEQRAEQRAEQRAEQRAEQRAEQRAEQRAEQRAEQRAEQRAEQRAEQRDEvTg+Pt52E34Mjt/+4/2bN+//+du2G7J93r46fIUcHr576cbxu1CCq/HmZZvGu5UUwJuXbBlvFSleHf6+7QZtj+N/vVI5/Pe2m7Q1/jhMafHq3babtDX+k5biBXuM9xktXr3YqSSrxSFpQXZB/iLB28w88nIDjOOMu/hj203aHmnDeL/tBm2T31UxXqznRI7fJ8V4uRG44E+Zv4CF2WbmEGvGWMvW8XDUYYyFBpR1A/5Zh1n4x+lBebMqrjd9OJmO8FAPFlbyVoMA63t42OjW6/VWy9tIE9fy25/vYYn25t2GjMJibNFibACdhJ7M69AbS6uyDv+QcS2w86iSjUUOHNS7jAWgnllnSS3acCusX4FjG44XC2ZsppG3cLzBhGefNU3T6WnYlXnN1D0fTELRogEqmDqaA3TSY6xt6GZtwXppLSagKNRvMlTAZqFumuamWvl9mLGROKix1VOssiP+F7UwF6zBT8ashR0WowfMyVG1qGIJ0mNt1ML/Hq3fLGDMDf74QjaJC8Eu4KGaOmpRY3VRCKJUtajDYE+hqsUYJRCVmQm3HX+f9m+UPniJsY5DZBSXQXfmCGphR33UAlYzGZPusMGaqhZ94U9Asy6vVZ/Ngsp36sNtmLsnH5CTU/3uix3weXMTtGjERaBFC6ijFg02k6VTVYt+Wgs5KjyhILJS9wk4UMnzTdevz86XJdd1y/BTWu5fnFzfdVfrCAzej5+/6i+qbCG+xsCzBc44yAwGgaJFg03FQY3NdfQX4Dvv8SS+nWUpyX93Mxfsfhy6w8LOiuKwtHN2esst8TkPwCNaYjKEvqTmkToIhTTRbY7RhHgNdKtJLTxpBjoK+z18ZzHZzZ1SWovdr+5wJ0Nh6H5cq4bNGp4xw+bDnDg2zFobnryihYNxlo4jCU70OmtVTGPMsK+gRc2wLCu6E/OhPkQi+va1uL5cFrNKCDWWF2vstc8HNvcCE3FYr4IWYu4QsdZAlC9qWOQF4gy7arbEsRyqY3F2hFPzlrU42SnnK8Fxv64xjdokCHzhEJ0wmDZHIJoxET0J+/wDb9ye9uzIOY2a0yDkAbnuh0g/ktnyZ6K+plX6T+o3kVu0uCoV1unAGZaz3uVZs16LvTukgIGyPNlew5+AtVrcZRVcjJ/LMtZpsbu8Wwp0odlQw/THfIDboYW/uB8YhOgmQ5+feL70JiNfuICGz+deJ4w9QmMmHYhmjGfBBCMQM0SP4wvgYp8HpaKUO5aAf4chLsA71ZpB80E+Zo0W18X7SAE+Yz9zR0NOAxBU4i8eSfkYTsNipCdOmHCUjE+WGGXxWQeDcKFmJ44x5UzSMvC2Gs5DHL7WrYgvk7fkE5bJMwCMf5Eom2n3Z40Wl9moolAcDrMKuXtZLURYGaAWgQi3uBaGmCz1llyOQTjJ+KzaFk3GIJxjs45j2V2PS+FXrcoM6kVa1Kxqtcq1QCE9XhpCIFO1BgHD2KVThSsMjPQa1qAzeLQWJ6W0EOXS8NPHm/2SGoPiKDm4rxaOyN7AUl4YS5PZovdttkAjiLXocZPQuXoicjW0WIt49cJwGcy1gG7XosucKHAf8BXAg2L2fC3OUyFW+XxPdnn3sqx+NjzLaNHVc7WosFmrgz3v8QWoDqGoGE5t5mMfYy3GrGPJg1nitiktJhCjCi38qKKW0KL68IVcrhZps3DPEmu23S/K+CmUUoYBje41gXlaixELJ8wx2UyEkHAKxj3gWgxCGOGxFuYR3AKfdDNatSe0mPXaYkD5FViycS2CxILYYYt2u83dLASsjcfbxY366EuqT7jeV8QoX2S0kKS0gOZXWdhgowFP8rQZhuYiFzhCRzCKH6+OC/QmDpasFsJ1ws1C8LmhiSfThAU4K4+JC5m5kkr+Bi1OXaWwnB4F14rPKJTSWiwMzGFlxogPi/JWa77QB9hP6Fswm/FBglrU2MJOmLrWWMDVfjSzJLSQaUPUAoxigKV9ue4VWkxXtuAEbP5ILfaUZUjhPBNDfHCVSmr0qfhOmc/p4Z8+/AKXF0K/29z5YV4bHylPgPXZUVILGEJtfMii616uFvCrjqWVxGWxv+CY7CGJ8zwt1CFSzsyamr6fvGKoDhJFiwaGBrKxM3AOpkjmTPmZbuqY5xBawCeRFk5Q1YRNzFgLp18bhlOkhZnQQgvEgOmwFtTQx/AtKy1wx8WJr/9GLa6VIVIYnmp6Cu1z0mMU1XhL0QLGMkyYYkHeibK8Bjg9GSSZC9BGJEYrsRZyEe8IL8q68NNQYy1LauEJLbyOvGwQxVoLPukuWGL0fJMWu6lZZD/LF6VWUZlJvNaUa9HrYtd1vxVtigWRI9O7Hb0xF62cdEdaf87jjUlLNtwcQ9+mIrKwQcxuEyp6XcwG1TtI3dJGXR58N1o8d6hjjdYELqu2+BWB2HObPyjnkaPFVSprUShmUOOtVAZI15N/NN0zlXJxFJ8kjhMXeKu9QlPW559Ghpn9ltVl0RVxzUdocZGT1bsV9+pBX/nDkqPFzZq83lrKn7fdi82Qo8X+Q7VITSSaNbJr0bFek1QszRFH3HDNgd3gF1kV7kXMCp5VKty4nYoYIsbIHomlu/hY4A3skROf1Wx7gCu+iqjjVKqb1GLnfsv1hBZqMIaL5dh9e3EUinGinATitfggzulacprg245tHpqbTX7N1Is/5uKK3LJcscgscl+H+ATXYlWZD9iUFoXHaQHNHjux0zLH4/GE1e3xuAYRVxP+jj2eK+837DYGF7EWXa4Fn3d7GK1iFiMc4TSE72/gNjSXAmaHyQinDewzTJxtuxFiFOHxqr0HTaJ3a/FIu6jw1YC1kgPmfLGV3ou2yAZRBsPIatHRpRYhm6NFmDO8X6zFWNgVXNLhsSgPa72qJha1VZkd2pgWXx6nRRXTS2Dmq23gWlqLTmLNJffPDalFD6VBLfRoA56HqrEWMveBH9dgNPYSXwymktzC3YgWnx45j/hs3uzXWRBb60qL3niMuc44C8G1aNuAL7Uw0PhRixqry0ccgHKRFiu/MYHSWSQMjycqbCp3bTenxZkaXwzLd7FU44sw8pZZLURobSZXCXZ0tdAC11tci4GsJN49iLRw4rv6YEBTmSPsdPgiZMbYo95JyNFCXaYOz/buRNlAs9kUfAWMh3jkrrTwYW41o53E6PJeZTAY2FILHc2gD31y4qFfh+VKpIUXl2JuQ77hIVdoUOVRZpGnhZrVylmm3o54WL3b/MUssTpP+U4duz3FylGOroojKvYXkavhY2kcLUqFFtXNa6GuU4vZrP/tBOgM9RZLhENpLWrS/9thjhZ81FT4H7yFVceYI9ZiJMaBd4ThhCfjkdGTaZFynu4D98agYW2ICuqrkpUWQbPZxEwmzIydcCLfWEproR2J/oJ7Cfw2Y0cmfrzoQ90J37uf+vBRyxTftZiEdfZ0WqgOo3iTV+90/VYqjymniXxSTZqyjDvR9EfYfoY5m1TcqYtjbkD2gsersihyx/acR5rC+9YwwcH8rvQXiQewIS1Oy0ph3jL0eqe0fkHmORUl5WpaMgVnGYDFe6FblZohPvTEOZ7Jt1DkNZpZHThi9tVFVUMtFfeBE8NY3ePbyc+Dp7L+mVFysFMsuJ/ufG3rmZGrxe5yRxHDTQ2I13y/aFh+vYUGPyH5+2apFEbBvUjYwMGlfB2hUFr3ntLzJF+L09TLF4Vy8WKXj+Hr1x/LqxFU3k/vpj5n1uyz7yk7IKjGsLQcnp+7y9QLjsufaJysexflJi/pWcimNgqls5/Gha7Twizec7U6PFeTzb/+cPzvsVrAtHmvdPgwvcP4y19+NP7+aC20g/N7iJGRQvvbLz8Ym9BCu95378hwFdyvGWfxc2qhaZ/dW51GMS8O/1m10Ha/rn/Ls+Du561gf1otINzeKQ1z5CgUXfcqN+h8xlrg/8isyPn/Ee31zTD98l6x7H79sOaGz3geea2SGzcdXF2eL91yeYiU3VL5Zm/9/9L89Yfj1/tqcU/Mg5OrvbPLj5cXe1enz+yfRAmCIAiCIAiCIAiCIAiCIAiCIAiCIAiCIAiCIAiCIAiCIAiCIAiCIAiCIAiCIIin5v+zi0eoCwQzLAAAAABJRU5ErkJggg==\" />"
   ]
  },
  {
   "cell_type": "markdown",
   "metadata": {},
   "source": [
    "# Titanic Dataset"
   ]
  },
  {
   "cell_type": "markdown",
   "metadata": {},
   "source": [
    "# Sections\n",
    "* [Introduction](#0)\n",
    "* [Part I: Basic exploratory analysis](#1)\n",
    "  * [Question 1](#1.1)  \n",
    "  * [Question 2](#1.2)\n",
    "  * [Question 3](#1.3)\n",
    "  * [Question 4](#1.4)\n",
    "  * [Question 5](#1.5)\n",
    "* [Part II: Insights](#2)\n",
    "  * [Insight 1](#2.1)\n",
    "  * [Insight 2](#2.2)\n",
    "  * [Insight 3](#2.3)\n",
    "* [Part III: Imputation](#3)\n",
    "  * [Method 1](#3.1)\n",
    "  * [Method 2](#3.1)"
   ]
  },
  {
   "cell_type": "markdown",
   "metadata": {},
   "source": [
    "<a id='0'></a>\n",
    "## Introduction\n",
    "<p>\n",
    "<div>The goal of this assignment is to analyze and extract insights from a database with information from the passengers of the Titanic. The dataset contains the following columns:</div>\n",
    "<ul>    \n",
    "    <li>PassengerId: unique ID of the passenger</li>\n",
    "    <li>Survived: Tells if the passenger survived (0 - No, 1 - Yes)</li>\n",
    "    <li>Pclass: passenger class (1 = 1st, 2 = 2nd, 3 = 3rd)</li>\n",
    "    <li>Name: name of the passenger</li>\n",
    "    <li>Sex: male/female</li>\n",
    "    <li>Age: passenger age in years</li>\n",
    "    <li>SibSp: No of siblings/spouses aboard</li>\n",
    "    <li>Parch: No of parents/children aboard</li>\n",
    "    <li>Ticket: ticket number</li>\n",
    "    <li>Fare: passenger fare</li>\n",
    "    <li>Cabin: cabin number</li>\n",
    "    <li>Embarked: port of embarkation (C = Cherbourg; Q = Queenstown; S = Southampton)</li>\n",
    "</ul>    \n",
    "</p>"
   ]
  },
  {
   "cell_type": "markdown",
   "metadata": {},
   "source": [
    "Here is the dataset ***titanic.csv*** that we just described:"
   ]
  },
  {
   "cell_type": "code",
   "execution_count": 290,
   "metadata": {
    "colab": {
     "base_uri": "https://localhost:8080/",
     "height": 206
    },
    "id": "7hSHy8eiprC0",
    "outputId": "000279cc-c010-4bbe-fdb1-4847cfdc2e52"
   },
   "outputs": [
    {
     "data": {
      "text/html": [
       "<div>\n",
       "<style scoped>\n",
       "    .dataframe tbody tr th:only-of-type {\n",
       "        vertical-align: middle;\n",
       "    }\n",
       "\n",
       "    .dataframe tbody tr th {\n",
       "        vertical-align: top;\n",
       "    }\n",
       "\n",
       "    .dataframe thead th {\n",
       "        text-align: right;\n",
       "    }\n",
       "</style>\n",
       "<table border=\"1\" class=\"dataframe\">\n",
       "  <thead>\n",
       "    <tr style=\"text-align: right;\">\n",
       "      <th></th>\n",
       "      <th>PassengerId</th>\n",
       "      <th>Survived</th>\n",
       "      <th>Pclass</th>\n",
       "      <th>Name</th>\n",
       "      <th>Sex</th>\n",
       "      <th>Age</th>\n",
       "      <th>SibSp</th>\n",
       "      <th>Parch</th>\n",
       "      <th>Ticket</th>\n",
       "      <th>Fare</th>\n",
       "      <th>Cabin</th>\n",
       "      <th>Embarked</th>\n",
       "    </tr>\n",
       "  </thead>\n",
       "  <tbody>\n",
       "    <tr>\n",
       "      <th>0</th>\n",
       "      <td>1</td>\n",
       "      <td>0</td>\n",
       "      <td>3</td>\n",
       "      <td>Mr. Owen Harris</td>\n",
       "      <td>male</td>\n",
       "      <td>22.0</td>\n",
       "      <td>1</td>\n",
       "      <td>0</td>\n",
       "      <td>A/5 21171</td>\n",
       "      <td>7.2500</td>\n",
       "      <td>NaN</td>\n",
       "      <td>S</td>\n",
       "    </tr>\n",
       "    <tr>\n",
       "      <th>1</th>\n",
       "      <td>2</td>\n",
       "      <td>1</td>\n",
       "      <td>1</td>\n",
       "      <td>Mrs. John Bradley (Florence Briggs Thayer)</td>\n",
       "      <td>female</td>\n",
       "      <td>38.0</td>\n",
       "      <td>1</td>\n",
       "      <td>0</td>\n",
       "      <td>PC 17599</td>\n",
       "      <td>71.2833</td>\n",
       "      <td>C85</td>\n",
       "      <td>C</td>\n",
       "    </tr>\n",
       "    <tr>\n",
       "      <th>2</th>\n",
       "      <td>3</td>\n",
       "      <td>1</td>\n",
       "      <td>3</td>\n",
       "      <td>Miss. Laina</td>\n",
       "      <td>female</td>\n",
       "      <td>26.0</td>\n",
       "      <td>0</td>\n",
       "      <td>0</td>\n",
       "      <td>STON/O2. 3101282</td>\n",
       "      <td>7.9250</td>\n",
       "      <td>NaN</td>\n",
       "      <td>S</td>\n",
       "    </tr>\n",
       "    <tr>\n",
       "      <th>3</th>\n",
       "      <td>4</td>\n",
       "      <td>1</td>\n",
       "      <td>1</td>\n",
       "      <td>Mrs. Jacques Heath (Lily May Peel)</td>\n",
       "      <td>female</td>\n",
       "      <td>35.0</td>\n",
       "      <td>1</td>\n",
       "      <td>0</td>\n",
       "      <td>113803</td>\n",
       "      <td>53.1000</td>\n",
       "      <td>C123</td>\n",
       "      <td>S</td>\n",
       "    </tr>\n",
       "    <tr>\n",
       "      <th>4</th>\n",
       "      <td>5</td>\n",
       "      <td>0</td>\n",
       "      <td>3</td>\n",
       "      <td>Mr. William Henry</td>\n",
       "      <td>male</td>\n",
       "      <td>35.0</td>\n",
       "      <td>0</td>\n",
       "      <td>0</td>\n",
       "      <td>373450</td>\n",
       "      <td>8.0500</td>\n",
       "      <td>NaN</td>\n",
       "      <td>S</td>\n",
       "    </tr>\n",
       "  </tbody>\n",
       "</table>\n",
       "</div>"
      ],
      "text/plain": [
       "   PassengerId  Survived  Pclass                                        Name  \\\n",
       "0            1         0       3                             Mr. Owen Harris   \n",
       "1            2         1       1  Mrs. John Bradley (Florence Briggs Thayer)   \n",
       "2            3         1       3                                 Miss. Laina   \n",
       "3            4         1       1          Mrs. Jacques Heath (Lily May Peel)   \n",
       "4            5         0       3                           Mr. William Henry   \n",
       "\n",
       "      Sex   Age  SibSp  Parch            Ticket     Fare Cabin Embarked  \n",
       "0    male  22.0      1      0         A/5 21171   7.2500   NaN        S  \n",
       "1  female  38.0      1      0          PC 17599  71.2833   C85        C  \n",
       "2  female  26.0      0      0  STON/O2. 3101282   7.9250   NaN        S  \n",
       "3  female  35.0      1      0            113803  53.1000  C123        S  \n",
       "4    male  35.0      0      0            373450   8.0500   NaN        S  "
      ]
     },
     "execution_count": 290,
     "metadata": {},
     "output_type": "execute_result"
    }
   ],
   "source": [
    "import pandas as pd\n",
    "df = pd.read_csv(\"data/titanic.csv\")\n",
    "df.head()"
   ]
  },
  {
   "cell_type": "markdown",
   "metadata": {},
   "source": [
    "<a id='1'></a>\n",
    "## Part I: Basic exploratory analysis\n",
    "\n",
    "In this section, we are going to do some data exploration and answer the question asked. "
   ]
  },
  {
   "cell_type": "markdown",
   "metadata": {},
   "source": [
    "The first thing we might think about is setting the column *PassengerId* as the actual index of the dataframe."
   ]
  },
  {
   "cell_type": "code",
   "execution_count": 291,
   "metadata": {},
   "outputs": [
    {
     "data": {
      "text/html": [
       "<div>\n",
       "<style scoped>\n",
       "    .dataframe tbody tr th:only-of-type {\n",
       "        vertical-align: middle;\n",
       "    }\n",
       "\n",
       "    .dataframe tbody tr th {\n",
       "        vertical-align: top;\n",
       "    }\n",
       "\n",
       "    .dataframe thead th {\n",
       "        text-align: right;\n",
       "    }\n",
       "</style>\n",
       "<table border=\"1\" class=\"dataframe\">\n",
       "  <thead>\n",
       "    <tr style=\"text-align: right;\">\n",
       "      <th></th>\n",
       "      <th>Survived</th>\n",
       "      <th>Pclass</th>\n",
       "      <th>Name</th>\n",
       "      <th>Sex</th>\n",
       "      <th>Age</th>\n",
       "      <th>SibSp</th>\n",
       "      <th>Parch</th>\n",
       "      <th>Ticket</th>\n",
       "      <th>Fare</th>\n",
       "      <th>Cabin</th>\n",
       "      <th>Embarked</th>\n",
       "    </tr>\n",
       "    <tr>\n",
       "      <th>PassengerId</th>\n",
       "      <th></th>\n",
       "      <th></th>\n",
       "      <th></th>\n",
       "      <th></th>\n",
       "      <th></th>\n",
       "      <th></th>\n",
       "      <th></th>\n",
       "      <th></th>\n",
       "      <th></th>\n",
       "      <th></th>\n",
       "      <th></th>\n",
       "    </tr>\n",
       "  </thead>\n",
       "  <tbody>\n",
       "    <tr>\n",
       "      <th>1</th>\n",
       "      <td>0</td>\n",
       "      <td>3</td>\n",
       "      <td>Mr. Owen Harris</td>\n",
       "      <td>male</td>\n",
       "      <td>22.0</td>\n",
       "      <td>1</td>\n",
       "      <td>0</td>\n",
       "      <td>A/5 21171</td>\n",
       "      <td>7.2500</td>\n",
       "      <td>NaN</td>\n",
       "      <td>S</td>\n",
       "    </tr>\n",
       "    <tr>\n",
       "      <th>2</th>\n",
       "      <td>1</td>\n",
       "      <td>1</td>\n",
       "      <td>Mrs. John Bradley (Florence Briggs Thayer)</td>\n",
       "      <td>female</td>\n",
       "      <td>38.0</td>\n",
       "      <td>1</td>\n",
       "      <td>0</td>\n",
       "      <td>PC 17599</td>\n",
       "      <td>71.2833</td>\n",
       "      <td>C85</td>\n",
       "      <td>C</td>\n",
       "    </tr>\n",
       "    <tr>\n",
       "      <th>3</th>\n",
       "      <td>1</td>\n",
       "      <td>3</td>\n",
       "      <td>Miss. Laina</td>\n",
       "      <td>female</td>\n",
       "      <td>26.0</td>\n",
       "      <td>0</td>\n",
       "      <td>0</td>\n",
       "      <td>STON/O2. 3101282</td>\n",
       "      <td>7.9250</td>\n",
       "      <td>NaN</td>\n",
       "      <td>S</td>\n",
       "    </tr>\n",
       "    <tr>\n",
       "      <th>4</th>\n",
       "      <td>1</td>\n",
       "      <td>1</td>\n",
       "      <td>Mrs. Jacques Heath (Lily May Peel)</td>\n",
       "      <td>female</td>\n",
       "      <td>35.0</td>\n",
       "      <td>1</td>\n",
       "      <td>0</td>\n",
       "      <td>113803</td>\n",
       "      <td>53.1000</td>\n",
       "      <td>C123</td>\n",
       "      <td>S</td>\n",
       "    </tr>\n",
       "    <tr>\n",
       "      <th>5</th>\n",
       "      <td>0</td>\n",
       "      <td>3</td>\n",
       "      <td>Mr. William Henry</td>\n",
       "      <td>male</td>\n",
       "      <td>35.0</td>\n",
       "      <td>0</td>\n",
       "      <td>0</td>\n",
       "      <td>373450</td>\n",
       "      <td>8.0500</td>\n",
       "      <td>NaN</td>\n",
       "      <td>S</td>\n",
       "    </tr>\n",
       "  </tbody>\n",
       "</table>\n",
       "</div>"
      ],
      "text/plain": [
       "             Survived  Pclass                                        Name  \\\n",
       "PassengerId                                                                 \n",
       "1                   0       3                             Mr. Owen Harris   \n",
       "2                   1       1  Mrs. John Bradley (Florence Briggs Thayer)   \n",
       "3                   1       3                                 Miss. Laina   \n",
       "4                   1       1          Mrs. Jacques Heath (Lily May Peel)   \n",
       "5                   0       3                           Mr. William Henry   \n",
       "\n",
       "                Sex   Age  SibSp  Parch            Ticket     Fare Cabin  \\\n",
       "PassengerId                                                                \n",
       "1              male  22.0      1      0         A/5 21171   7.2500   NaN   \n",
       "2            female  38.0      1      0          PC 17599  71.2833   C85   \n",
       "3            female  26.0      0      0  STON/O2. 3101282   7.9250   NaN   \n",
       "4            female  35.0      1      0            113803  53.1000  C123   \n",
       "5              male  35.0      0      0            373450   8.0500   NaN   \n",
       "\n",
       "            Embarked  \n",
       "PassengerId           \n",
       "1                  S  \n",
       "2                  C  \n",
       "3                  S  \n",
       "4                  S  \n",
       "5                  S  "
      ]
     },
     "execution_count": 291,
     "metadata": {},
     "output_type": "execute_result"
    }
   ],
   "source": [
    "df = df.set_index(\"PassengerId\")\n",
    "df.head()"
   ]
  },
  {
   "cell_type": "markdown",
   "metadata": {},
   "source": [
    "In this case, we are not going to do this because having the PassengerId as a column will allow us to use it for some operations and increase the versatility of the dataset."
   ]
  },
  {
   "cell_type": "markdown",
   "metadata": {},
   "source": [
    "Moreover, using the default *RangeIndex* may improve computational speed. See https://pandas.pydata.org/pandas-docs/stable/reference/api/pandas.RangeIndex.html for more information."
   ]
  },
  {
   "cell_type": "markdown",
   "metadata": {},
   "source": [
    "For these two reasons, we are going to maintain the index as it is by default."
   ]
  },
  {
   "cell_type": "code",
   "execution_count": 292,
   "metadata": {},
   "outputs": [],
   "source": [
    "df = pd.read_csv(\"data/titanic.csv\")"
   ]
  },
  {
   "cell_type": "markdown",
   "metadata": {},
   "source": [
    "<a id='1.1'></a>\n",
    "### Question 1\n",
    "\n",
    "Read the dataset correctly using pandas, using an appropriate column as index. What is the PassengerId of \"Mr. Robert William Norman\"?"
   ]
  },
  {
   "cell_type": "code",
   "execution_count": 293,
   "metadata": {
    "colab": {
     "base_uri": "https://localhost:8080/",
     "height": 81
    },
    "id": "toLuH2trrAo6",
    "outputId": "0d6a794b-136b-40ad-b4b5-f4293029c256"
   },
   "outputs": [
    {
     "data": {
      "text/html": [
       "<div>\n",
       "<style scoped>\n",
       "    .dataframe tbody tr th:only-of-type {\n",
       "        vertical-align: middle;\n",
       "    }\n",
       "\n",
       "    .dataframe tbody tr th {\n",
       "        vertical-align: top;\n",
       "    }\n",
       "\n",
       "    .dataframe thead th {\n",
       "        text-align: right;\n",
       "    }\n",
       "</style>\n",
       "<table border=\"1\" class=\"dataframe\">\n",
       "  <thead>\n",
       "    <tr style=\"text-align: right;\">\n",
       "      <th></th>\n",
       "      <th>Name</th>\n",
       "      <th>PassengerId</th>\n",
       "    </tr>\n",
       "  </thead>\n",
       "  <tbody>\n",
       "    <tr>\n",
       "      <th>234</th>\n",
       "      <td>Mr. Robert William Norman</td>\n",
       "      <td>235</td>\n",
       "    </tr>\n",
       "  </tbody>\n",
       "</table>\n",
       "</div>"
      ],
      "text/plain": [
       "                          Name  PassengerId\n",
       "234  Mr. Robert William Norman          235"
      ]
     },
     "execution_count": 293,
     "metadata": {},
     "output_type": "execute_result"
    }
   ],
   "source": [
    "df.loc[df[\"Name\"]==\"Mr. Robert William Norman\", [\"Name\", \"PassengerId\"]]"
   ]
  },
  {
   "cell_type": "markdown",
   "metadata": {},
   "source": [
    "<a id='1.2'></a>\n",
    "### Question 2\n",
    "\n",
    "Compute the percentage of survivors out of total number of passengers and the percentage of men and women out of total number of passengers."
   ]
  },
  {
   "cell_type": "code",
   "execution_count": 294,
   "metadata": {},
   "outputs": [
    {
     "name": "stdout",
     "output_type": "stream",
     "text": [
      "Total percentage of survivors:  0.3838383838383838\n"
     ]
    }
   ],
   "source": [
    "#Total percentage of survivors out of the total\n",
    "#Since the Survived column is a categorical of 1 and 0, we can use the mean to calculate the probability of surviving\n",
    "print(\"Total percentage of survivors: \", df[\"Survived\"].mean())"
   ]
  },
  {
   "cell_type": "code",
   "execution_count": 295,
   "metadata": {
    "colab": {
     "base_uri": "https://localhost:8080/"
    },
    "id": "QyEdGCMxsGEc",
    "outputId": "a9f3b0a4-6e3f-479a-d5e2-af6275b4bdb9"
   },
   "outputs": [
    {
     "name": "stdout",
     "output_type": "stream",
     "text": [
      "Percentage of male passengers:  0.6475869809203143\n",
      "Percentage of female passengers:  0.35241301907968575\n"
     ]
    }
   ],
   "source": [
    "#Percentage of men\n",
    "print(\"Percentage of male passengers: \", df.loc[df[\"Sex\"] == \"male\"][\"PassengerId\"].count() / df.shape[0])\n",
    "#Percentage of women\n",
    "print(\"Percentage of female passengers: \", df.loc[df[\"Sex\"] == \"female\"][\"PassengerId\"].count() / df.shape[0])"
   ]
  },
  {
   "cell_type": "markdown",
   "metadata": {},
   "source": [
    "<a id='1.3'></a>\n",
    "### Question 3\n",
    "\n",
    "Compute the percentage of survivors by sex (i.e. the percentage of male passengers that survived and female passengers that survived) and the sex distribution of survivors (i.e. percentage of survivors that were men and percentage of survivors that were women)."
   ]
  },
  {
   "cell_type": "code",
   "execution_count": 296,
   "metadata": {
    "colab": {
     "base_uri": "https://localhost:8080/"
    },
    "id": "dOiCZqRms2PM",
    "outputId": "63e4aa89-3f92-42bd-ae47-027a370b54ce"
   },
   "outputs": [
    {
     "data": {
      "text/plain": [
       "Sex\n",
       "female    0.742038\n",
       "male      0.188908\n",
       "Name: Survived, dtype: float64"
      ]
     },
     "execution_count": 296,
     "metadata": {},
     "output_type": "execute_result"
    }
   ],
   "source": [
    "#Percentage of survivors by sex\n",
    "#We can use mean() for the percentage since column Survived is either 0 or 1\n",
    "df.groupby('Sex')['Survived'].mean()"
   ]
  },
  {
   "cell_type": "code",
   "execution_count": 297,
   "metadata": {
    "colab": {
     "base_uri": "https://localhost:8080/"
    },
    "id": "UsanrTNOtefO",
    "outputId": "507dba8e-0859-4eec-f4f5-4139907e8a45"
   },
   "outputs": [
    {
     "data": {
      "text/plain": [
       "Sex\n",
       "female    0.681287\n",
       "male      0.318713\n",
       "Name: PassengerId, dtype: float64"
      ]
     },
     "execution_count": 297,
     "metadata": {},
     "output_type": "execute_result"
    }
   ],
   "source": [
    "#Distribution of survivors by sex\n",
    "df.loc[df[\"Survived\"] == 1].groupby('Sex')[\"PassengerId\"].count() / df.loc[df[\"Survived\"] == 1].shape[0]"
   ]
  },
  {
   "cell_type": "markdown",
   "metadata": {},
   "source": [
    "<a id='1.4'></a>\n",
    "### Question 4\n",
    "\n",
    "Display in a 2 x 2 DataFrame the probability of being male/female and surviving/not surviving."
   ]
  },
  {
   "cell_type": "markdown",
   "metadata": {},
   "source": [
    "In order to do this question, we are going to use the function ***pd.crosstab*** which allows us to create a simple cross tabulation of two (or more) factors. In this case it is going to be the *Sex* and *Survived*"
   ]
  },
  {
   "cell_type": "code",
   "execution_count": 298,
   "metadata": {
    "colab": {
     "base_uri": "https://localhost:8080/",
     "height": 143
    },
    "id": "B2ib9yehubxp",
    "outputId": "4b31cafc-86d0-462d-a0b9-e4b6bf23ba2b"
   },
   "outputs": [
    {
     "data": {
      "text/html": [
       "<div>\n",
       "<style scoped>\n",
       "    .dataframe tbody tr th:only-of-type {\n",
       "        vertical-align: middle;\n",
       "    }\n",
       "\n",
       "    .dataframe tbody tr th {\n",
       "        vertical-align: top;\n",
       "    }\n",
       "\n",
       "    .dataframe thead th {\n",
       "        text-align: right;\n",
       "    }\n",
       "</style>\n",
       "<table border=\"1\" class=\"dataframe\">\n",
       "  <thead>\n",
       "    <tr style=\"text-align: right;\">\n",
       "      <th>Survived</th>\n",
       "      <th>0</th>\n",
       "      <th>1</th>\n",
       "    </tr>\n",
       "    <tr>\n",
       "      <th>Sex</th>\n",
       "      <th></th>\n",
       "      <th></th>\n",
       "    </tr>\n",
       "  </thead>\n",
       "  <tbody>\n",
       "    <tr>\n",
       "      <th>female</th>\n",
       "      <td>81</td>\n",
       "      <td>233</td>\n",
       "    </tr>\n",
       "    <tr>\n",
       "      <th>male</th>\n",
       "      <td>468</td>\n",
       "      <td>109</td>\n",
       "    </tr>\n",
       "  </tbody>\n",
       "</table>\n",
       "</div>"
      ],
      "text/plain": [
       "Survived    0    1\n",
       "Sex               \n",
       "female     81  233\n",
       "male      468  109"
      ]
     },
     "execution_count": 298,
     "metadata": {},
     "output_type": "execute_result"
    }
   ],
   "source": [
    "#First we create a frequency table\n",
    "survived_sex_freq_table = pd.crosstab(index = df[\"Sex\"], columns = df[\"Survived\"])\n",
    "survived_sex_freq_table"
   ]
  },
  {
   "cell_type": "code",
   "execution_count": 299,
   "metadata": {
    "colab": {
     "base_uri": "https://localhost:8080/",
     "height": 143
    },
    "id": "wxb1pkrn2O6G",
    "outputId": "69e95fc7-0d17-418b-c351-0e76b5841a66"
   },
   "outputs": [
    {
     "data": {
      "text/html": [
       "<div>\n",
       "<style scoped>\n",
       "    .dataframe tbody tr th:only-of-type {\n",
       "        vertical-align: middle;\n",
       "    }\n",
       "\n",
       "    .dataframe tbody tr th {\n",
       "        vertical-align: top;\n",
       "    }\n",
       "\n",
       "    .dataframe thead th {\n",
       "        text-align: right;\n",
       "    }\n",
       "</style>\n",
       "<table border=\"1\" class=\"dataframe\">\n",
       "  <thead>\n",
       "    <tr style=\"text-align: right;\">\n",
       "      <th>Survived</th>\n",
       "      <th>0</th>\n",
       "      <th>1</th>\n",
       "    </tr>\n",
       "    <tr>\n",
       "      <th>Sex</th>\n",
       "      <th></th>\n",
       "      <th></th>\n",
       "    </tr>\n",
       "  </thead>\n",
       "  <tbody>\n",
       "    <tr>\n",
       "      <th>female</th>\n",
       "      <td>0.090909</td>\n",
       "      <td>0.261504</td>\n",
       "    </tr>\n",
       "    <tr>\n",
       "      <th>male</th>\n",
       "      <td>0.525253</td>\n",
       "      <td>0.122334</td>\n",
       "    </tr>\n",
       "  </tbody>\n",
       "</table>\n",
       "</div>"
      ],
      "text/plain": [
       "Survived         0         1\n",
       "Sex                         \n",
       "female    0.090909  0.261504\n",
       "male      0.525253  0.122334"
      ]
     },
     "execution_count": 299,
     "metadata": {},
     "output_type": "execute_result"
    }
   ],
   "source": [
    "#We divided by the count of passengers to obtain the probabilities\n",
    "survived_sex_probabilities = survived_sex_freq_table / df.shape[0]\n",
    "survived_sex_probabilities"
   ]
  },
  {
   "cell_type": "code",
   "execution_count": 300,
   "metadata": {
    "colab": {
     "base_uri": "https://localhost:8080/",
     "height": 35
    },
    "id": "wzFxd89U0iDL",
    "outputId": "53ffe49a-a152-4467-dabf-40c3b5f981e4"
   },
   "outputs": [
    {
     "data": {
      "text/plain": [
       "'Survived         0         1\\nSex                         \\nfemale    0.090909  0.261504\\nmale      0.525253  0.122334'"
      ]
     },
     "execution_count": 300,
     "metadata": {},
     "output_type": "execute_result"
    }
   ],
   "source": [
    "#Display using to_string() to copy paste the output more easily\n",
    "survived_sex_probabilities.to_string()"
   ]
  },
  {
   "cell_type": "markdown",
   "metadata": {},
   "source": [
    "<a id='1.5'></a>\n",
    "### Question 5\n",
    "\n",
    "Display in a DataFrame the probability of survival/not survival of all combinations of sex and class."
   ]
  },
  {
   "cell_type": "code",
   "execution_count": 301,
   "metadata": {
    "colab": {
     "base_uri": "https://localhost:8080/",
     "height": 269
    },
    "id": "tkmdEKTB2yGf",
    "outputId": "ecd7954c-ad72-4582-e9a7-cfb8cf262f29"
   },
   "outputs": [
    {
     "data": {
      "text/html": [
       "<div>\n",
       "<style scoped>\n",
       "    .dataframe tbody tr th:only-of-type {\n",
       "        vertical-align: middle;\n",
       "    }\n",
       "\n",
       "    .dataframe tbody tr th {\n",
       "        vertical-align: top;\n",
       "    }\n",
       "\n",
       "    .dataframe thead th {\n",
       "        text-align: right;\n",
       "    }\n",
       "</style>\n",
       "<table border=\"1\" class=\"dataframe\">\n",
       "  <thead>\n",
       "    <tr style=\"text-align: right;\">\n",
       "      <th></th>\n",
       "      <th>Survived</th>\n",
       "      <th>0</th>\n",
       "      <th>1</th>\n",
       "    </tr>\n",
       "    <tr>\n",
       "      <th>Sex</th>\n",
       "      <th>Pclass</th>\n",
       "      <th></th>\n",
       "      <th></th>\n",
       "    </tr>\n",
       "  </thead>\n",
       "  <tbody>\n",
       "    <tr>\n",
       "      <th rowspan=\"3\" valign=\"top\">female</th>\n",
       "      <th>1</th>\n",
       "      <td>3</td>\n",
       "      <td>91</td>\n",
       "    </tr>\n",
       "    <tr>\n",
       "      <th>2</th>\n",
       "      <td>6</td>\n",
       "      <td>70</td>\n",
       "    </tr>\n",
       "    <tr>\n",
       "      <th>3</th>\n",
       "      <td>72</td>\n",
       "      <td>72</td>\n",
       "    </tr>\n",
       "    <tr>\n",
       "      <th rowspan=\"3\" valign=\"top\">male</th>\n",
       "      <th>1</th>\n",
       "      <td>77</td>\n",
       "      <td>45</td>\n",
       "    </tr>\n",
       "    <tr>\n",
       "      <th>2</th>\n",
       "      <td>91</td>\n",
       "      <td>17</td>\n",
       "    </tr>\n",
       "    <tr>\n",
       "      <th>3</th>\n",
       "      <td>300</td>\n",
       "      <td>47</td>\n",
       "    </tr>\n",
       "  </tbody>\n",
       "</table>\n",
       "</div>"
      ],
      "text/plain": [
       "Survived         0   1\n",
       "Sex    Pclass         \n",
       "female 1         3  91\n",
       "       2         6  70\n",
       "       3        72  72\n",
       "male   1        77  45\n",
       "       2        91  17\n",
       "       3       300  47"
      ]
     },
     "execution_count": 301,
     "metadata": {},
     "output_type": "execute_result"
    }
   ],
   "source": [
    "#First we create a frequency table\n",
    "survived_sex_class_freq_table = pd.crosstab(index = [df[\"Sex\"], df[\"Pclass\"]], columns = df[\"Survived\"])\n",
    "survived_sex_class_freq_table"
   ]
  },
  {
   "cell_type": "code",
   "execution_count": 302,
   "metadata": {
    "colab": {
     "base_uri": "https://localhost:8080/",
     "height": 269
    },
    "id": "QMP2DBDy3N9-",
    "outputId": "ad584d5a-6807-44fd-d745-94b072b1dbfd"
   },
   "outputs": [
    {
     "data": {
      "text/html": [
       "<div>\n",
       "<style scoped>\n",
       "    .dataframe tbody tr th:only-of-type {\n",
       "        vertical-align: middle;\n",
       "    }\n",
       "\n",
       "    .dataframe tbody tr th {\n",
       "        vertical-align: top;\n",
       "    }\n",
       "\n",
       "    .dataframe thead th {\n",
       "        text-align: right;\n",
       "    }\n",
       "</style>\n",
       "<table border=\"1\" class=\"dataframe\">\n",
       "  <thead>\n",
       "    <tr style=\"text-align: right;\">\n",
       "      <th></th>\n",
       "      <th>Survived</th>\n",
       "      <th>0</th>\n",
       "      <th>1</th>\n",
       "    </tr>\n",
       "    <tr>\n",
       "      <th>Sex</th>\n",
       "      <th>Pclass</th>\n",
       "      <th></th>\n",
       "      <th></th>\n",
       "    </tr>\n",
       "  </thead>\n",
       "  <tbody>\n",
       "    <tr>\n",
       "      <th rowspan=\"3\" valign=\"top\">female</th>\n",
       "      <th>1</th>\n",
       "      <td>0.003367</td>\n",
       "      <td>0.102132</td>\n",
       "    </tr>\n",
       "    <tr>\n",
       "      <th>2</th>\n",
       "      <td>0.006734</td>\n",
       "      <td>0.078563</td>\n",
       "    </tr>\n",
       "    <tr>\n",
       "      <th>3</th>\n",
       "      <td>0.080808</td>\n",
       "      <td>0.080808</td>\n",
       "    </tr>\n",
       "    <tr>\n",
       "      <th rowspan=\"3\" valign=\"top\">male</th>\n",
       "      <th>1</th>\n",
       "      <td>0.086420</td>\n",
       "      <td>0.050505</td>\n",
       "    </tr>\n",
       "    <tr>\n",
       "      <th>2</th>\n",
       "      <td>0.102132</td>\n",
       "      <td>0.019080</td>\n",
       "    </tr>\n",
       "    <tr>\n",
       "      <th>3</th>\n",
       "      <td>0.336700</td>\n",
       "      <td>0.052750</td>\n",
       "    </tr>\n",
       "  </tbody>\n",
       "</table>\n",
       "</div>"
      ],
      "text/plain": [
       "Survived              0         1\n",
       "Sex    Pclass                    \n",
       "female 1       0.003367  0.102132\n",
       "       2       0.006734  0.078563\n",
       "       3       0.080808  0.080808\n",
       "male   1       0.086420  0.050505\n",
       "       2       0.102132  0.019080\n",
       "       3       0.336700  0.052750"
      ]
     },
     "execution_count": 302,
     "metadata": {},
     "output_type": "execute_result"
    }
   ],
   "source": [
    "#We divided by the count of passengers to obtain the probabilities\n",
    "survived_sex_class_probabilities = survived_sex_class_freq_table / df.shape[0]\n",
    "survived_sex_class_probabilities"
   ]
  },
  {
   "cell_type": "code",
   "execution_count": 303,
   "metadata": {
    "colab": {
     "base_uri": "https://localhost:8080/",
     "height": 52
    },
    "id": "jOmPul3r35xy",
    "outputId": "ffc02b84-f0b3-4f97-cfb9-c3f7b3b269f5"
   },
   "outputs": [
    {
     "data": {
      "text/plain": [
       "'Survived              0         1\\nSex    Pclass                    \\nfemale 1       0.003367  0.102132\\n       2       0.006734  0.078563\\n       3       0.080808  0.080808\\nmale   1       0.086420  0.050505\\n       2       0.102132  0.019080\\n       3       0.336700  0.052750'"
      ]
     },
     "execution_count": 303,
     "metadata": {},
     "output_type": "execute_result"
    }
   ],
   "source": [
    "#Display using to_string()\n",
    "survived_sex_class_probabilities.to_string()"
   ]
  },
  {
   "cell_type": "markdown",
   "metadata": {},
   "source": [
    "<a id='2'></a>\n",
    "## Part II: Insights\n",
    "\n",
    "Present **three insights** about the dataset, each of them relating at least 3 different variables, and support them by code and numbers."
   ]
  },
  {
   "cell_type": "markdown",
   "metadata": {},
   "source": [
    "<a id='2.1'></a>\n",
    "###  Insight 1\n",
    "\n",
    "For the first insight, we are going to display the percentage of tickets for each class that have been bought for each port."
   ]
  },
  {
   "cell_type": "markdown",
   "metadata": {},
   "source": [
    "The first thing we need to realize is that, it seems that there are groups of people that have the same ticket number. This can be shown by doing a groupby *Ticket* and checking the count:"
   ]
  },
  {
   "cell_type": "code",
   "execution_count": 304,
   "metadata": {},
   "outputs": [
    {
     "data": {
      "text/plain": [
       "Ticket\n",
       "110152    3\n",
       "110413    3\n",
       "110465    2\n",
       "110564    1\n",
       "110813    1\n",
       "Name: PassengerId, dtype: int64"
      ]
     },
     "execution_count": 304,
     "metadata": {},
     "output_type": "execute_result"
    }
   ],
   "source": [
    "df.groupby(\"Ticket\")[\"PassengerId\"].count().head()"
   ]
  },
  {
   "cell_type": "markdown",
   "metadata": {},
   "source": [
    "Taking this into consideration, we are going to consider them as just one ticket purchased. For this reason, we are going to use *nunique* to apply this rule"
   ]
  },
  {
   "cell_type": "markdown",
   "metadata": {},
   "source": [
    "Having this knowledge, to provide the percentage of tickets for each class that have been bought for each port, we can create a pivot table using *Embarked* and *Pclass* as our index."
   ]
  },
  {
   "cell_type": "code",
   "execution_count": 305,
   "metadata": {
    "colab": {
     "base_uri": "https://localhost:8080/",
     "height": 363
    },
    "id": "XEClhcMmLNAl",
    "outputId": "3af58d86-aaae-4b39-be5f-559379a99d3c"
   },
   "outputs": [
    {
     "data": {
      "text/html": [
       "<div>\n",
       "<style scoped>\n",
       "    .dataframe tbody tr th:only-of-type {\n",
       "        vertical-align: middle;\n",
       "    }\n",
       "\n",
       "    .dataframe tbody tr th {\n",
       "        vertical-align: top;\n",
       "    }\n",
       "\n",
       "    .dataframe thead th {\n",
       "        text-align: right;\n",
       "    }\n",
       "</style>\n",
       "<table border=\"1\" class=\"dataframe\">\n",
       "  <thead>\n",
       "    <tr style=\"text-align: right;\">\n",
       "      <th></th>\n",
       "      <th></th>\n",
       "      <th>Ticket</th>\n",
       "    </tr>\n",
       "    <tr>\n",
       "      <th>Embarked</th>\n",
       "      <th>Pclass</th>\n",
       "      <th></th>\n",
       "    </tr>\n",
       "  </thead>\n",
       "  <tbody>\n",
       "    <tr>\n",
       "      <th rowspan=\"3\" valign=\"top\">C</th>\n",
       "      <th>1</th>\n",
       "      <td>0.083700</td>\n",
       "    </tr>\n",
       "    <tr>\n",
       "      <th>2</th>\n",
       "      <td>0.017621</td>\n",
       "    </tr>\n",
       "    <tr>\n",
       "      <th>3</th>\n",
       "      <td>0.077827</td>\n",
       "    </tr>\n",
       "    <tr>\n",
       "      <th rowspan=\"3\" valign=\"top\">Q</th>\n",
       "      <th>1</th>\n",
       "      <td>0.001468</td>\n",
       "    </tr>\n",
       "    <tr>\n",
       "      <th>2</th>\n",
       "      <td>0.004405</td>\n",
       "    </tr>\n",
       "    <tr>\n",
       "      <th>3</th>\n",
       "      <td>0.091043</td>\n",
       "    </tr>\n",
       "    <tr>\n",
       "      <th rowspan=\"3\" valign=\"top\">S</th>\n",
       "      <th>1</th>\n",
       "      <td>0.132159</td>\n",
       "    </tr>\n",
       "    <tr>\n",
       "      <th>2</th>\n",
       "      <td>0.183554</td>\n",
       "    </tr>\n",
       "    <tr>\n",
       "      <th>3</th>\n",
       "      <td>0.409692</td>\n",
       "    </tr>\n",
       "  </tbody>\n",
       "</table>\n",
       "</div>"
      ],
      "text/plain": [
       "                   Ticket\n",
       "Embarked Pclass          \n",
       "C        1       0.083700\n",
       "         2       0.017621\n",
       "         3       0.077827\n",
       "Q        1       0.001468\n",
       "         2       0.004405\n",
       "         3       0.091043\n",
       "S        1       0.132159\n",
       "         2       0.183554\n",
       "         3       0.409692"
      ]
     },
     "execution_count": 305,
     "metadata": {},
     "output_type": "execute_result"
    }
   ],
   "source": [
    "df.pivot_table(index = [\"Embarked\", \"Pclass\"], values = \"Ticket\", aggfunc = \"nunique\") / df[\"Ticket\"].nunique()"
   ]
  },
  {
   "cell_type": "markdown",
   "metadata": {},
   "source": [
    "It can be seen that Southampton (S) is the port where most people embarked for all classes.\n",
    "\n",
    "In Cherbourg (C) the highest percentage of people that embarked are first class.\n",
    "\n",
    "In Queensland (Q), on the contrary, it has a highest percentage of third class."
   ]
  },
  {
   "cell_type": "markdown",
   "metadata": {},
   "source": [
    "<a id='2.2'></a>\n",
    "###  Insight 2\n",
    "\n",
    "For the second insight, we are going to display the probability that a male has to survive depending on the number of siblings/spouses they have aboard. This is interesting taking into consideration that males are much more likely to not survived (as seen in question 4 of the previous section)."
   ]
  },
  {
   "cell_type": "markdown",
   "metadata": {},
   "source": [
    "To display these probabilities we are going to use again the *pd.crosstab*."
   ]
  },
  {
   "cell_type": "code",
   "execution_count": 306,
   "metadata": {
    "colab": {
     "base_uri": "https://localhost:8080/",
     "height": 300
    },
    "id": "3sp2WRxqMwPL",
    "outputId": "45dd3a51-b08b-4742-bbdf-07ce5f7b4cf2"
   },
   "outputs": [
    {
     "data": {
      "text/html": [
       "<div>\n",
       "<style scoped>\n",
       "    .dataframe tbody tr th:only-of-type {\n",
       "        vertical-align: middle;\n",
       "    }\n",
       "\n",
       "    .dataframe tbody tr th {\n",
       "        vertical-align: top;\n",
       "    }\n",
       "\n",
       "    .dataframe thead th {\n",
       "        text-align: right;\n",
       "    }\n",
       "</style>\n",
       "<table border=\"1\" class=\"dataframe\">\n",
       "  <thead>\n",
       "    <tr style=\"text-align: right;\">\n",
       "      <th></th>\n",
       "      <th>Survived</th>\n",
       "      <th>0</th>\n",
       "      <th>1</th>\n",
       "    </tr>\n",
       "    <tr>\n",
       "      <th>Sex</th>\n",
       "      <th>SibSp</th>\n",
       "      <th></th>\n",
       "      <th></th>\n",
       "    </tr>\n",
       "  </thead>\n",
       "  <tbody>\n",
       "    <tr>\n",
       "      <th rowspan=\"7\" valign=\"top\">male</th>\n",
       "      <th>0</th>\n",
       "      <td>361</td>\n",
       "      <td>73</td>\n",
       "    </tr>\n",
       "    <tr>\n",
       "      <th>1</th>\n",
       "      <td>71</td>\n",
       "      <td>32</td>\n",
       "    </tr>\n",
       "    <tr>\n",
       "      <th>2</th>\n",
       "      <td>12</td>\n",
       "      <td>3</td>\n",
       "    </tr>\n",
       "    <tr>\n",
       "      <th>3</th>\n",
       "      <td>5</td>\n",
       "      <td>0</td>\n",
       "    </tr>\n",
       "    <tr>\n",
       "      <th>4</th>\n",
       "      <td>11</td>\n",
       "      <td>1</td>\n",
       "    </tr>\n",
       "    <tr>\n",
       "      <th>5</th>\n",
       "      <td>4</td>\n",
       "      <td>0</td>\n",
       "    </tr>\n",
       "    <tr>\n",
       "      <th>8</th>\n",
       "      <td>4</td>\n",
       "      <td>0</td>\n",
       "    </tr>\n",
       "  </tbody>\n",
       "</table>\n",
       "</div>"
      ],
      "text/plain": [
       "Survived      0   1\n",
       "Sex  SibSp         \n",
       "male 0      361  73\n",
       "     1       71  32\n",
       "     2       12   3\n",
       "     3        5   0\n",
       "     4       11   1\n",
       "     5        4   0\n",
       "     8        4   0"
      ]
     },
     "execution_count": 306,
     "metadata": {},
     "output_type": "execute_result"
    }
   ],
   "source": [
    "#First we create a frequency table\n",
    "male_sibsp_crosstab = pd.crosstab(index = [df.loc[df[\"Sex\"] == \"male\", \"Sex\"], df.loc[df[\"Sex\"] == \"male\", \"SibSp\"]], columns = df[\"Survived\"])\n",
    "male_sibsp_crosstab"
   ]
  },
  {
   "cell_type": "markdown",
   "metadata": {},
   "source": [
    "Once we have the frequency table, we are going to add a new column that will have the odds of males surviving depending on the number of siblings/spouses."
   ]
  },
  {
   "cell_type": "code",
   "execution_count": 307,
   "metadata": {},
   "outputs": [
    {
     "data": {
      "text/html": [
       "<div>\n",
       "<style scoped>\n",
       "    .dataframe tbody tr th:only-of-type {\n",
       "        vertical-align: middle;\n",
       "    }\n",
       "\n",
       "    .dataframe tbody tr th {\n",
       "        vertical-align: top;\n",
       "    }\n",
       "\n",
       "    .dataframe thead th {\n",
       "        text-align: right;\n",
       "    }\n",
       "</style>\n",
       "<table border=\"1\" class=\"dataframe\">\n",
       "  <thead>\n",
       "    <tr style=\"text-align: right;\">\n",
       "      <th></th>\n",
       "      <th>Survived</th>\n",
       "      <th>0</th>\n",
       "      <th>1</th>\n",
       "      <th>odds</th>\n",
       "    </tr>\n",
       "    <tr>\n",
       "      <th>Sex</th>\n",
       "      <th>SibSp</th>\n",
       "      <th></th>\n",
       "      <th></th>\n",
       "      <th></th>\n",
       "    </tr>\n",
       "  </thead>\n",
       "  <tbody>\n",
       "    <tr>\n",
       "      <th rowspan=\"7\" valign=\"top\">male</th>\n",
       "      <th>0</th>\n",
       "      <td>361</td>\n",
       "      <td>73</td>\n",
       "      <td>0.202216</td>\n",
       "    </tr>\n",
       "    <tr>\n",
       "      <th>1</th>\n",
       "      <td>71</td>\n",
       "      <td>32</td>\n",
       "      <td>0.450704</td>\n",
       "    </tr>\n",
       "    <tr>\n",
       "      <th>2</th>\n",
       "      <td>12</td>\n",
       "      <td>3</td>\n",
       "      <td>0.250000</td>\n",
       "    </tr>\n",
       "    <tr>\n",
       "      <th>3</th>\n",
       "      <td>5</td>\n",
       "      <td>0</td>\n",
       "      <td>0.000000</td>\n",
       "    </tr>\n",
       "    <tr>\n",
       "      <th>4</th>\n",
       "      <td>11</td>\n",
       "      <td>1</td>\n",
       "      <td>0.090909</td>\n",
       "    </tr>\n",
       "    <tr>\n",
       "      <th>5</th>\n",
       "      <td>4</td>\n",
       "      <td>0</td>\n",
       "      <td>0.000000</td>\n",
       "    </tr>\n",
       "    <tr>\n",
       "      <th>8</th>\n",
       "      <td>4</td>\n",
       "      <td>0</td>\n",
       "      <td>0.000000</td>\n",
       "    </tr>\n",
       "  </tbody>\n",
       "</table>\n",
       "</div>"
      ],
      "text/plain": [
       "Survived      0   1      odds\n",
       "Sex  SibSp                   \n",
       "male 0      361  73  0.202216\n",
       "     1       71  32  0.450704\n",
       "     2       12   3  0.250000\n",
       "     3        5   0  0.000000\n",
       "     4       11   1  0.090909\n",
       "     5        4   0  0.000000\n",
       "     8        4   0  0.000000"
      ]
     },
     "execution_count": 307,
     "metadata": {},
     "output_type": "execute_result"
    }
   ],
   "source": [
    "male_sibsp_crosstab[\"odds\"] = male_sibsp_crosstab[1] / male_sibsp_crosstab[0]\n",
    "male_sibsp_crosstab"
   ]
  },
  {
   "cell_type": "markdown",
   "metadata": {},
   "source": [
    "It can be seen that the odds of surviving for men when having 2 or more siblings/spouses decreases substantially. It is also interesting to note that having just one sibling/spouse greatly increases the males odds of surviving. "
   ]
  },
  {
   "cell_type": "markdown",
   "metadata": {},
   "source": [
    "<a id='2.3'></a>\n",
    "###  Insight 3\n",
    "\n",
    "For the final and third insight, we are going to compare the surviving probabilities of kids vs surviving probabilities of adults by passenger class. We are going to consider kids when the passenger is 12 or less years old. "
   ]
  },
  {
   "cell_type": "markdown",
   "metadata": {},
   "source": [
    "First we are going to compute the probabilities of the kids."
   ]
  },
  {
   "cell_type": "code",
   "execution_count": 308,
   "metadata": {
    "colab": {
     "base_uri": "https://localhost:8080/",
     "height": 175
    },
    "id": "ywd1dtNWYham",
    "outputId": "99f27f57-1792-4d6d-f526-e20d5087de52",
    "tags": []
   },
   "outputs": [
    {
     "data": {
      "text/html": [
       "<div>\n",
       "<style scoped>\n",
       "    .dataframe tbody tr th:only-of-type {\n",
       "        vertical-align: middle;\n",
       "    }\n",
       "\n",
       "    .dataframe tbody tr th {\n",
       "        vertical-align: top;\n",
       "    }\n",
       "\n",
       "    .dataframe thead th {\n",
       "        text-align: right;\n",
       "    }\n",
       "</style>\n",
       "<table border=\"1\" class=\"dataframe\">\n",
       "  <thead>\n",
       "    <tr style=\"text-align: right;\">\n",
       "      <th></th>\n",
       "      <th>Survived</th>\n",
       "    </tr>\n",
       "    <tr>\n",
       "      <th>Pclass</th>\n",
       "      <th></th>\n",
       "    </tr>\n",
       "  </thead>\n",
       "  <tbody>\n",
       "    <tr>\n",
       "      <th>1</th>\n",
       "      <td>0.750000</td>\n",
       "    </tr>\n",
       "    <tr>\n",
       "      <th>2</th>\n",
       "      <td>1.000000</td>\n",
       "    </tr>\n",
       "    <tr>\n",
       "      <th>3</th>\n",
       "      <td>0.416667</td>\n",
       "    </tr>\n",
       "  </tbody>\n",
       "</table>\n",
       "</div>"
      ],
      "text/plain": [
       "        Survived\n",
       "Pclass          \n",
       "1       0.750000\n",
       "2       1.000000\n",
       "3       0.416667"
      ]
     },
     "execution_count": 308,
     "metadata": {},
     "output_type": "execute_result"
    }
   ],
   "source": [
    "df_kids_under_12 = df.loc[df[\"Age\"] <= 12]\n",
    "df_kids_under_12.pivot_table(index = [\"Pclass\"] , values = \"Survived\", aggfunc = \"sum\") / \\\n",
    "df_kids_under_12.pivot_table(index = [\"Pclass\"] , values = \"Survived\", aggfunc = \"count\")"
   ]
  },
  {
   "cell_type": "markdown",
   "metadata": {},
   "source": [
    "Second the probability of the adults."
   ]
  },
  {
   "cell_type": "code",
   "execution_count": 309,
   "metadata": {
    "colab": {
     "base_uri": "https://localhost:8080/",
     "height": 175
    },
    "id": "eHV4Hqvhd2KM",
    "outputId": "cb430687-004a-48b0-f140-230d65418dbd"
   },
   "outputs": [
    {
     "data": {
      "text/html": [
       "<div>\n",
       "<style scoped>\n",
       "    .dataframe tbody tr th:only-of-type {\n",
       "        vertical-align: middle;\n",
       "    }\n",
       "\n",
       "    .dataframe tbody tr th {\n",
       "        vertical-align: top;\n",
       "    }\n",
       "\n",
       "    .dataframe thead th {\n",
       "        text-align: right;\n",
       "    }\n",
       "</style>\n",
       "<table border=\"1\" class=\"dataframe\">\n",
       "  <thead>\n",
       "    <tr style=\"text-align: right;\">\n",
       "      <th></th>\n",
       "      <th>Survived</th>\n",
       "    </tr>\n",
       "    <tr>\n",
       "      <th>Pclass</th>\n",
       "      <th></th>\n",
       "    </tr>\n",
       "  </thead>\n",
       "  <tbody>\n",
       "    <tr>\n",
       "      <th>1</th>\n",
       "      <td>0.653846</td>\n",
       "    </tr>\n",
       "    <tr>\n",
       "      <th>2</th>\n",
       "      <td>0.423077</td>\n",
       "    </tr>\n",
       "    <tr>\n",
       "      <th>3</th>\n",
       "      <td>0.211726</td>\n",
       "    </tr>\n",
       "  </tbody>\n",
       "</table>\n",
       "</div>"
      ],
      "text/plain": [
       "        Survived\n",
       "Pclass          \n",
       "1       0.653846\n",
       "2       0.423077\n",
       "3       0.211726"
      ]
     },
     "execution_count": 309,
     "metadata": {},
     "output_type": "execute_result"
    }
   ],
   "source": [
    "df_over_12 = df.loc[df[\"Age\"] > 12]\n",
    "df_over_12.pivot_table(index = [\"Pclass\"] , values = \"Survived\", aggfunc = \"sum\") / \\\n",
    "df_over_12.pivot_table(index = [\"Pclass\"] , values = \"Survived\", aggfunc = \"count\")"
   ]
  },
  {
   "cell_type": "markdown",
   "metadata": {},
   "source": [
    "We can see that the rule of kids and women first seems correctly applied since the percentage of kids that survived is higher than the adults in all classes. However, it seems that it was not evenly distributed since the percentage of child survivors in third class is much lower than first and second class."
   ]
  },
  {
   "cell_type": "markdown",
   "metadata": {},
   "source": [
    "<a id='3'></a>\n",
    "## Part III: Imputation\n",
    "\n",
    "Devise **two distinct strategies** to impute the missing values in the *Age* column.\n",
    "\n",
    "(You cannot use machine learning algorithms for the feature engineering part, only manual techniques. This rules out KNN, Deep Learning, sklearn.preprocessing.Imputer, fancyimpute, missingno, and similar)"
   ]
  },
  {
   "cell_type": "markdown",
   "metadata": {},
   "source": [
    "<a id='3.1'></a>\n",
    "###  Method 1"
   ]
  },
  {
   "cell_type": "markdown",
   "metadata": {},
   "source": [
    "For the first method, we realized that all the names of the passenger have a title associated to them (e.g. Mr, Miss, Rev). The first thing we are going to do is to create a new column with these titles."
   ]
  },
  {
   "cell_type": "code",
   "execution_count": 310,
   "metadata": {
    "colab": {
     "base_uri": "https://localhost:8080/"
    },
    "id": "YxjNKNLD4vPz",
    "outputId": "4384189c-10f1-468e-cdc8-22b5e3fc57c6",
    "tags": []
   },
   "outputs": [
    {
     "data": {
      "text/plain": [
       "array(['Mr', 'Mrs', 'Miss', 'Master', 'Don', 'Rev', 'Dr', 'Mme', 'Ms',\n",
       "       'Major', 'Lady', 'Sir', 'Mlle', 'Col', 'Capt', 'the Countess',\n",
       "       'Jonkheer'], dtype=object)"
      ]
     },
     "execution_count": 310,
     "metadata": {},
     "output_type": "execute_result"
    }
   ],
   "source": [
    "df[\"title\"]=df[\"Name\"].str.split(\".\").str[0]\n",
    "titles = df[\"title\"].unique()\n",
    "titles"
   ]
  },
  {
   "cell_type": "markdown",
   "metadata": {},
   "source": [
    "The titles are interesting because they have a direct assocation with the age of the passenger. Taking this into consideration, it is an interesting variable that we can use to impute the age of the passengers."
   ]
  },
  {
   "cell_type": "markdown",
   "metadata": {},
   "source": [
    "In combination with these titles, we are going to use the class of the passengers. It is also interesting because it seems that people in first class are older than people in lower classes."
   ]
  },
  {
   "cell_type": "code",
   "execution_count": 311,
   "metadata": {},
   "outputs": [
    {
     "data": {
      "text/plain": [
       "array([3, 1, 2], dtype=int64)"
      ]
     },
     "execution_count": 311,
     "metadata": {},
     "output_type": "execute_result"
    }
   ],
   "source": [
    "classes=df['Pclass'].unique()\n",
    "classes"
   ]
  },
  {
   "cell_type": "markdown",
   "metadata": {},
   "source": [
    "With all this information, we are going to impute the mean age of the passengers by title and class."
   ]
  },
  {
   "cell_type": "code",
   "execution_count": 312,
   "metadata": {},
   "outputs": [
    {
     "data": {
      "text/plain": [
       "title  Pclass\n",
       "Capt   1         70.00\n",
       "Col    1         58.00\n",
       "Don    1         40.00\n",
       "Dr     1         43.75\n",
       "       2         38.50\n",
       "Name: Age, dtype: float64"
      ]
     },
     "execution_count": 312,
     "metadata": {},
     "output_type": "execute_result"
    }
   ],
   "source": [
    "title_class=df.groupby([\"title\",\"Pclass\"])[\"Age\"].mean()\n",
    "title_class.head()"
   ]
  },
  {
   "cell_type": "markdown",
   "metadata": {},
   "source": [
    "Once we have this information, we can loop to impute the NaN values of the age by using the mean age by title and class we have calculated before."
   ]
  },
  {
   "cell_type": "code",
   "execution_count": 313,
   "metadata": {
    "tags": []
   },
   "outputs": [],
   "source": [
    "#Loop in titles and classes\n",
    "for title in titles:\n",
    "    for pclass in classes:\n",
    "        #Check the rows of the data frame that have the combination of title and class\n",
    "        filt=((df['title']==title) & (df['Pclass']==pclass))\n",
    "        if filt.any()==True:\n",
    "            #Impute the values by using the mean calculated for that pair of title and class\n",
    "            mean_values=title_class.loc[title,pclass]\n",
    "            df['Age'].fillna(mean_values,inplace=True)"
   ]
  },
  {
   "cell_type": "markdown",
   "metadata": {},
   "source": [
    "Once all the values have been imputed, we can check that now there is no NaN values on the column *Age*."
   ]
  },
  {
   "cell_type": "code",
   "execution_count": 314,
   "metadata": {},
   "outputs": [
    {
     "data": {
      "text/plain": [
       "False    891\n",
       "Name: Age, dtype: int64"
      ]
     },
     "execution_count": 314,
     "metadata": {},
     "output_type": "execute_result"
    }
   ],
   "source": [
    "(df['Age'].isna()).value_counts()"
   ]
  },
  {
   "cell_type": "markdown",
   "metadata": {},
   "source": [
    "<a id='3.2'></a>\n",
    "###  Method 2\n",
    "\n"
   ]
  },
  {
   "cell_type": "markdown",
   "metadata": {},
   "source": [
    "For the second method, we wanted to explore different variables other than *title* and *Pclass*. To do so, we thought about using a correlation matrix and checking what variables correlate with *Age*."
   ]
  },
  {
   "cell_type": "markdown",
   "metadata": {},
   "source": [
    "Firstly, we are going to reset the dataframe so that we can apply this second method."
   ]
  },
  {
   "cell_type": "code",
   "execution_count": 315,
   "metadata": {},
   "outputs": [
    {
     "data": {
      "text/html": [
       "<div>\n",
       "<style scoped>\n",
       "    .dataframe tbody tr th:only-of-type {\n",
       "        vertical-align: middle;\n",
       "    }\n",
       "\n",
       "    .dataframe tbody tr th {\n",
       "        vertical-align: top;\n",
       "    }\n",
       "\n",
       "    .dataframe thead th {\n",
       "        text-align: right;\n",
       "    }\n",
       "</style>\n",
       "<table border=\"1\" class=\"dataframe\">\n",
       "  <thead>\n",
       "    <tr style=\"text-align: right;\">\n",
       "      <th></th>\n",
       "      <th>PassengerId</th>\n",
       "      <th>Survived</th>\n",
       "      <th>Pclass</th>\n",
       "      <th>Name</th>\n",
       "      <th>Sex</th>\n",
       "      <th>Age</th>\n",
       "      <th>SibSp</th>\n",
       "      <th>Parch</th>\n",
       "      <th>Ticket</th>\n",
       "      <th>Fare</th>\n",
       "      <th>Cabin</th>\n",
       "      <th>Embarked</th>\n",
       "    </tr>\n",
       "  </thead>\n",
       "  <tbody>\n",
       "    <tr>\n",
       "      <th>0</th>\n",
       "      <td>1</td>\n",
       "      <td>0</td>\n",
       "      <td>3</td>\n",
       "      <td>Mr. Owen Harris</td>\n",
       "      <td>male</td>\n",
       "      <td>22.0</td>\n",
       "      <td>1</td>\n",
       "      <td>0</td>\n",
       "      <td>A/5 21171</td>\n",
       "      <td>7.2500</td>\n",
       "      <td>NaN</td>\n",
       "      <td>S</td>\n",
       "    </tr>\n",
       "    <tr>\n",
       "      <th>1</th>\n",
       "      <td>2</td>\n",
       "      <td>1</td>\n",
       "      <td>1</td>\n",
       "      <td>Mrs. John Bradley (Florence Briggs Thayer)</td>\n",
       "      <td>female</td>\n",
       "      <td>38.0</td>\n",
       "      <td>1</td>\n",
       "      <td>0</td>\n",
       "      <td>PC 17599</td>\n",
       "      <td>71.2833</td>\n",
       "      <td>C85</td>\n",
       "      <td>C</td>\n",
       "    </tr>\n",
       "    <tr>\n",
       "      <th>2</th>\n",
       "      <td>3</td>\n",
       "      <td>1</td>\n",
       "      <td>3</td>\n",
       "      <td>Miss. Laina</td>\n",
       "      <td>female</td>\n",
       "      <td>26.0</td>\n",
       "      <td>0</td>\n",
       "      <td>0</td>\n",
       "      <td>STON/O2. 3101282</td>\n",
       "      <td>7.9250</td>\n",
       "      <td>NaN</td>\n",
       "      <td>S</td>\n",
       "    </tr>\n",
       "    <tr>\n",
       "      <th>3</th>\n",
       "      <td>4</td>\n",
       "      <td>1</td>\n",
       "      <td>1</td>\n",
       "      <td>Mrs. Jacques Heath (Lily May Peel)</td>\n",
       "      <td>female</td>\n",
       "      <td>35.0</td>\n",
       "      <td>1</td>\n",
       "      <td>0</td>\n",
       "      <td>113803</td>\n",
       "      <td>53.1000</td>\n",
       "      <td>C123</td>\n",
       "      <td>S</td>\n",
       "    </tr>\n",
       "    <tr>\n",
       "      <th>4</th>\n",
       "      <td>5</td>\n",
       "      <td>0</td>\n",
       "      <td>3</td>\n",
       "      <td>Mr. William Henry</td>\n",
       "      <td>male</td>\n",
       "      <td>35.0</td>\n",
       "      <td>0</td>\n",
       "      <td>0</td>\n",
       "      <td>373450</td>\n",
       "      <td>8.0500</td>\n",
       "      <td>NaN</td>\n",
       "      <td>S</td>\n",
       "    </tr>\n",
       "  </tbody>\n",
       "</table>\n",
       "</div>"
      ],
      "text/plain": [
       "   PassengerId  Survived  Pclass                                        Name  \\\n",
       "0            1         0       3                             Mr. Owen Harris   \n",
       "1            2         1       1  Mrs. John Bradley (Florence Briggs Thayer)   \n",
       "2            3         1       3                                 Miss. Laina   \n",
       "3            4         1       1          Mrs. Jacques Heath (Lily May Peel)   \n",
       "4            5         0       3                           Mr. William Henry   \n",
       "\n",
       "      Sex   Age  SibSp  Parch            Ticket     Fare Cabin Embarked  \n",
       "0    male  22.0      1      0         A/5 21171   7.2500   NaN        S  \n",
       "1  female  38.0      1      0          PC 17599  71.2833   C85        C  \n",
       "2  female  26.0      0      0  STON/O2. 3101282   7.9250   NaN        S  \n",
       "3  female  35.0      1      0            113803  53.1000  C123        S  \n",
       "4    male  35.0      0      0            373450   8.0500   NaN        S  "
      ]
     },
     "execution_count": 315,
     "metadata": {},
     "output_type": "execute_result"
    }
   ],
   "source": [
    "df = pd.read_csv(\"data/titanic.csv\")\n",
    "df.head()"
   ]
  },
  {
   "cell_type": "markdown",
   "metadata": {},
   "source": [
    "Then, we are going to check the correlation matrix to find the variables that have a higher correlation with the *Age*."
   ]
  },
  {
   "cell_type": "code",
   "execution_count": 316,
   "metadata": {},
   "outputs": [
    {
     "data": {
      "text/html": [
       "<div>\n",
       "<style scoped>\n",
       "    .dataframe tbody tr th:only-of-type {\n",
       "        vertical-align: middle;\n",
       "    }\n",
       "\n",
       "    .dataframe tbody tr th {\n",
       "        vertical-align: top;\n",
       "    }\n",
       "\n",
       "    .dataframe thead th {\n",
       "        text-align: right;\n",
       "    }\n",
       "</style>\n",
       "<table border=\"1\" class=\"dataframe\">\n",
       "  <thead>\n",
       "    <tr style=\"text-align: right;\">\n",
       "      <th></th>\n",
       "      <th>PassengerId</th>\n",
       "      <th>Survived</th>\n",
       "      <th>Pclass</th>\n",
       "      <th>Age</th>\n",
       "      <th>SibSp</th>\n",
       "      <th>Parch</th>\n",
       "      <th>Fare</th>\n",
       "    </tr>\n",
       "  </thead>\n",
       "  <tbody>\n",
       "    <tr>\n",
       "      <th>PassengerId</th>\n",
       "      <td>1.000000</td>\n",
       "      <td>-0.005007</td>\n",
       "      <td>-0.035144</td>\n",
       "      <td>0.036847</td>\n",
       "      <td>-0.057527</td>\n",
       "      <td>-0.001652</td>\n",
       "      <td>0.012658</td>\n",
       "    </tr>\n",
       "    <tr>\n",
       "      <th>Survived</th>\n",
       "      <td>-0.005007</td>\n",
       "      <td>1.000000</td>\n",
       "      <td>-0.338481</td>\n",
       "      <td>-0.077221</td>\n",
       "      <td>-0.035322</td>\n",
       "      <td>0.081629</td>\n",
       "      <td>0.257307</td>\n",
       "    </tr>\n",
       "    <tr>\n",
       "      <th>Pclass</th>\n",
       "      <td>-0.035144</td>\n",
       "      <td>-0.338481</td>\n",
       "      <td>1.000000</td>\n",
       "      <td>-0.369226</td>\n",
       "      <td>0.083081</td>\n",
       "      <td>0.018443</td>\n",
       "      <td>-0.549500</td>\n",
       "    </tr>\n",
       "    <tr>\n",
       "      <th>Age</th>\n",
       "      <td>0.036847</td>\n",
       "      <td>-0.077221</td>\n",
       "      <td>-0.369226</td>\n",
       "      <td>1.000000</td>\n",
       "      <td>-0.308247</td>\n",
       "      <td>-0.189119</td>\n",
       "      <td>0.096067</td>\n",
       "    </tr>\n",
       "    <tr>\n",
       "      <th>SibSp</th>\n",
       "      <td>-0.057527</td>\n",
       "      <td>-0.035322</td>\n",
       "      <td>0.083081</td>\n",
       "      <td>-0.308247</td>\n",
       "      <td>1.000000</td>\n",
       "      <td>0.414838</td>\n",
       "      <td>0.159651</td>\n",
       "    </tr>\n",
       "    <tr>\n",
       "      <th>Parch</th>\n",
       "      <td>-0.001652</td>\n",
       "      <td>0.081629</td>\n",
       "      <td>0.018443</td>\n",
       "      <td>-0.189119</td>\n",
       "      <td>0.414838</td>\n",
       "      <td>1.000000</td>\n",
       "      <td>0.216225</td>\n",
       "    </tr>\n",
       "    <tr>\n",
       "      <th>Fare</th>\n",
       "      <td>0.012658</td>\n",
       "      <td>0.257307</td>\n",
       "      <td>-0.549500</td>\n",
       "      <td>0.096067</td>\n",
       "      <td>0.159651</td>\n",
       "      <td>0.216225</td>\n",
       "      <td>1.000000</td>\n",
       "    </tr>\n",
       "  </tbody>\n",
       "</table>\n",
       "</div>"
      ],
      "text/plain": [
       "             PassengerId  Survived    Pclass       Age     SibSp     Parch  \\\n",
       "PassengerId     1.000000 -0.005007 -0.035144  0.036847 -0.057527 -0.001652   \n",
       "Survived       -0.005007  1.000000 -0.338481 -0.077221 -0.035322  0.081629   \n",
       "Pclass         -0.035144 -0.338481  1.000000 -0.369226  0.083081  0.018443   \n",
       "Age             0.036847 -0.077221 -0.369226  1.000000 -0.308247 -0.189119   \n",
       "SibSp          -0.057527 -0.035322  0.083081 -0.308247  1.000000  0.414838   \n",
       "Parch          -0.001652  0.081629  0.018443 -0.189119  0.414838  1.000000   \n",
       "Fare            0.012658  0.257307 -0.549500  0.096067  0.159651  0.216225   \n",
       "\n",
       "                 Fare  \n",
       "PassengerId  0.012658  \n",
       "Survived     0.257307  \n",
       "Pclass      -0.549500  \n",
       "Age          0.096067  \n",
       "SibSp        0.159651  \n",
       "Parch        0.216225  \n",
       "Fare         1.000000  "
      ]
     },
     "execution_count": 316,
     "metadata": {},
     "output_type": "execute_result"
    }
   ],
   "source": [
    "df.corr()"
   ]
  },
  {
   "cell_type": "markdown",
   "metadata": {},
   "source": [
    "By analyzing the correlation matrix, we can see that the variable with the higher correlation to *Age* is ***SibSp*** (excluding *Pclass* which was used for method 1). For this reason, we are going to calculate the mean age by *SibSp*."
   ]
  },
  {
   "cell_type": "code",
   "execution_count": 317,
   "metadata": {},
   "outputs": [
    {
     "data": {
      "text/plain": [
       "SibSp\n",
       "0    31.397558\n",
       "1    30.089727\n",
       "2    22.620000\n",
       "3    13.916667\n",
       "4     7.055556\n",
       "5    10.200000\n",
       "8          NaN\n",
       "Name: Age, dtype: float64"
      ]
     },
     "execution_count": 317,
     "metadata": {},
     "output_type": "execute_result"
    }
   ],
   "source": [
    "means=df.groupby('SibSp')['Age'].mean()\n",
    "means"
   ]
  },
  {
   "cell_type": "markdown",
   "metadata": {},
   "source": [
    "In the same way as we did before, we are going to loop over the dataframe to impute the NaN values depending on the SibSp. "
   ]
  },
  {
   "cell_type": "code",
   "execution_count": 318,
   "metadata": {},
   "outputs": [],
   "source": [
    "for i in df['SibSp']:\n",
    "    mean_value=means.loc[i]\n",
    "    df['Age'].fillna(mean_value,inplace=True)"
   ]
  },
  {
   "cell_type": "markdown",
   "metadata": {},
   "source": [
    "To check that it has worked correctly, we are going to see if there are still NaN values on the *Age* after the imputation."
   ]
  },
  {
   "cell_type": "code",
   "execution_count": 319,
   "metadata": {},
   "outputs": [
    {
     "data": {
      "text/plain": [
       "False    891\n",
       "Name: Age, dtype: int64"
      ]
     },
     "execution_count": 319,
     "metadata": {},
     "output_type": "execute_result"
    }
   ],
   "source": [
    "(df['Age'].isna()).value_counts()"
   ]
  }
 ],
 "metadata": {
  "colab": {
   "provenance": []
  },
  "kernelspec": {
   "display_name": "Python 3 (ipykernel)",
   "language": "python",
   "name": "python3"
  },
  "language_info": {
   "codemirror_mode": {
    "name": "ipython",
    "version": 3
   },
   "file_extension": ".py",
   "mimetype": "text/x-python",
   "name": "python",
   "nbconvert_exporter": "python",
   "pygments_lexer": "ipython3",
   "version": "3.9.12"
  }
 },
 "nbformat": 4,
 "nbformat_minor": 4
}
